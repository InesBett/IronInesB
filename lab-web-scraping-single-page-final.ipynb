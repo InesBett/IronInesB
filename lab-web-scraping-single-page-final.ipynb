{
 "cells": [
  {
   "cell_type": "markdown",
   "id": "cea49cd1-9e15-431e-b22d-97d6bdc7e75a",
   "metadata": {},
   "source": [
    "You have been hired as a Data Analyst for \"Gnod\".\n",
    "\n",
    "\"Gnod\" is a site that provides recommendations for music, art, literature and products based on collaborative filtering algorithms. Their flagship product is the music recommender, which you can try at www.gnoosic.com. The site asks users to input 3 bands they like, and computes similarity scores with the rest of the users. Then, they recommend to the user bands that users with similar tastes have picked."
   ]
  },
  {
   "cell_type": "code",
   "execution_count": 3,
   "id": "60af6f98-ed03-4ab7-b1a4-90006635a6c8",
   "metadata": {},
   "outputs": [],
   "source": [
    "from bs4 import BeautifulSoup\n",
    "import pandas as pd\n",
    "import requests"
   ]
  },
  {
   "cell_type": "code",
   "execution_count": 4,
   "id": "f92fdcc4-997f-4649-a54e-ee543aff1e1d",
   "metadata": {},
   "outputs": [],
   "source": [
    "url=\"https://www.billboard.com/charts/hot-100\""
   ]
  },
  {
   "cell_type": "code",
   "execution_count": 5,
   "id": "0dc03f3a-2538-4362-bc3b-109ce4131730",
   "metadata": {},
   "outputs": [],
   "source": [
    "response= requests.get(url)"
   ]
  },
  {
   "cell_type": "code",
   "execution_count": 6,
   "id": "1259b134-787d-4cfc-8006-91d232dbb781",
   "metadata": {},
   "outputs": [
    {
     "data": {
      "text/plain": [
       "200"
      ]
     },
     "execution_count": 6,
     "metadata": {},
     "output_type": "execute_result"
    }
   ],
   "source": [
    "response.status_code"
   ]
  },
  {
   "cell_type": "code",
   "execution_count": 7,
   "id": "bacf2ded-a980-4637-a6ea-adaf0048c511",
   "metadata": {},
   "outputs": [],
   "source": [
    "soup=BeautifulSoup(response.text, \"html.parser\")"
   ]
  },
  {
   "cell_type": "code",
   "execution_count": 1,
   "id": "8f0e878d-641b-420d-980d-015d9632cdf6",
   "metadata": {},
   "outputs": [],
   "source": [
    "#print(soup.prettify())"
   ]
  },
  {
   "cell_type": "code",
   "execution_count": 12,
   "id": "d79f6a67-9061-4e42-92ca-e77ad600c911",
   "metadata": {},
   "outputs": [],
   "source": [
    "html_table = soup.find_all(\"div\", {\"class\" : \"chart-results-list\"})[0]\n",
    "#html_table"
   ]
  },
  {
   "cell_type": "code",
   "execution_count": 8,
   "id": "60480455-3b1b-4804-9fa3-5e75da4c742c",
   "metadata": {},
   "outputs": [],
   "source": [
    "songs= []\n",
    "for element in soup.find_all(attrs = {\"class\": \"o-chart-results-list-row-container\"}):\n",
    "    songs.append(element.h3.get_text(strip=True))"
   ]
  },
  {
   "cell_type": "code",
   "execution_count": 9,
   "id": "4c477985-1b63-4ab7-b6fa-9d7689cf33fe",
   "metadata": {},
   "outputs": [],
   "source": [
    "artists=[]\n",
    "for element in soup.find_all(attrs= {\"class\": \"o-chart-results-list-row-container\"}):\n",
    "    artists.append(element.h3.find_next(\"span\").get_text(strip= True))"
   ]
  },
  {
   "cell_type": "code",
   "execution_count": 10,
   "id": "674baacd-8b9e-4005-ae13-2ea75948a5a9",
   "metadata": {},
   "outputs": [],
   "source": [
    "ranking= []\n",
    "for element in soup.find_all(attrs={\"class\": \"o-chart-results-list-row-container\"}):\n",
    "    ranking.append(element.li.find_next(\"span\").get_text(strip= True))"
   ]
  },
  {
   "cell_type": "code",
   "execution_count": 11,
   "id": "516956bf-e8ba-44b5-8732-5c2257b6d210",
   "metadata": {},
   "outputs": [],
   "source": [
    "dict_lab= {\"ranking\": ranking,\n",
    "           \"songs\": songs,\n",
    "           \"artists\": artists,}"
   ]
  },
  {
   "cell_type": "code",
   "execution_count": 16,
   "id": "de81a170-6f48-4d29-ae9c-6b1755574eb3",
   "metadata": {},
   "outputs": [
    {
     "data": {
      "text/html": [
       "<div>\n",
       "<style scoped>\n",
       "    .dataframe tbody tr th:only-of-type {\n",
       "        vertical-align: middle;\n",
       "    }\n",
       "\n",
       "    .dataframe tbody tr th {\n",
       "        vertical-align: top;\n",
       "    }\n",
       "\n",
       "    .dataframe thead th {\n",
       "        text-align: right;\n",
       "    }\n",
       "</style>\n",
       "<table border=\"1\" class=\"dataframe\">\n",
       "  <thead>\n",
       "    <tr style=\"text-align: right;\">\n",
       "      <th></th>\n",
       "      <th>ranking</th>\n",
       "      <th>songs</th>\n",
       "      <th>artists</th>\n",
       "    </tr>\n",
       "  </thead>\n",
       "  <tbody>\n",
       "    <tr>\n",
       "      <th>0</th>\n",
       "      <td>1</td>\n",
       "      <td>A Bar Song (Tipsy)</td>\n",
       "      <td>Shaboozey</td>\n",
       "    </tr>\n",
       "    <tr>\n",
       "      <th>1</th>\n",
       "      <td>2</td>\n",
       "      <td>I Had Some Help</td>\n",
       "      <td>Post Malone Featuring Morgan Wallen</td>\n",
       "    </tr>\n",
       "    <tr>\n",
       "      <th>2</th>\n",
       "      <td>3</td>\n",
       "      <td>Espresso</td>\n",
       "      <td>Sabrina Carpenter</td>\n",
       "    </tr>\n",
       "    <tr>\n",
       "      <th>3</th>\n",
       "      <td>4</td>\n",
       "      <td>Good Luck, Babe!</td>\n",
       "      <td>Chappell Roan</td>\n",
       "    </tr>\n",
       "    <tr>\n",
       "      <th>4</th>\n",
       "      <td>5</td>\n",
       "      <td>Die With A Smile</td>\n",
       "      <td>Lady Gaga &amp; Bruno Mars</td>\n",
       "    </tr>\n",
       "    <tr>\n",
       "      <th>...</th>\n",
       "      <td>...</td>\n",
       "      <td>...</td>\n",
       "      <td>...</td>\n",
       "    </tr>\n",
       "    <tr>\n",
       "      <th>95</th>\n",
       "      <td>96</td>\n",
       "      <td>U My Everything</td>\n",
       "      <td>Sexyy Red &amp; Drake</td>\n",
       "    </tr>\n",
       "    <tr>\n",
       "      <th>96</th>\n",
       "      <td>97</td>\n",
       "      <td>My Kink Is Karma</td>\n",
       "      <td>Chappell Roan</td>\n",
       "    </tr>\n",
       "    <tr>\n",
       "      <th>97</th>\n",
       "      <td>98</td>\n",
       "      <td>Nasty</td>\n",
       "      <td>Tinashe</td>\n",
       "    </tr>\n",
       "    <tr>\n",
       "      <th>98</th>\n",
       "      <td>99</td>\n",
       "      <td>Parking Lot</td>\n",
       "      <td>Mustard &amp; Travis Scott</td>\n",
       "    </tr>\n",
       "    <tr>\n",
       "      <th>99</th>\n",
       "      <td>100</td>\n",
       "      <td>Worst Way</td>\n",
       "      <td>Riley Green</td>\n",
       "    </tr>\n",
       "  </tbody>\n",
       "</table>\n",
       "<p>100 rows × 3 columns</p>\n",
       "</div>"
      ],
      "text/plain": [
       "   ranking               songs                              artists\n",
       "0        1  A Bar Song (Tipsy)                            Shaboozey\n",
       "1        2     I Had Some Help  Post Malone Featuring Morgan Wallen\n",
       "2        3            Espresso                    Sabrina Carpenter\n",
       "3        4    Good Luck, Babe!                        Chappell Roan\n",
       "4        5    Die With A Smile               Lady Gaga & Bruno Mars\n",
       "..     ...                 ...                                  ...\n",
       "95      96     U My Everything                    Sexyy Red & Drake\n",
       "96      97    My Kink Is Karma                        Chappell Roan\n",
       "97      98               Nasty                              Tinashe\n",
       "98      99         Parking Lot               Mustard & Travis Scott\n",
       "99     100           Worst Way                          Riley Green\n",
       "\n",
       "[100 rows x 3 columns]"
      ]
     },
     "execution_count": 16,
     "metadata": {},
     "output_type": "execute_result"
    }
   ],
   "source": [
    "df= pd.DataFrame(dict_lab)\n",
    "df"
   ]
  }
 ],
 "metadata": {
  "kernelspec": {
   "display_name": "Python 3 (ipykernel)",
   "language": "python",
   "name": "python3"
  },
  "language_info": {
   "codemirror_mode": {
    "name": "ipython",
    "version": 3
   },
   "file_extension": ".py",
   "mimetype": "text/x-python",
   "name": "python",
   "nbconvert_exporter": "python",
   "pygments_lexer": "ipython3",
   "version": "3.11.7"
  }
 },
 "nbformat": 4,
 "nbformat_minor": 5
}
