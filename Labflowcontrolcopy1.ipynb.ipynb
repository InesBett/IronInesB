{
 "cells": [
  {
   "cell_type": "raw",
   "id": "7f221c3a-cf1d-4e62-8bd4-07d6a003b081",
   "metadata": {},
   "source": [
    "Exercise: Managing Customer Orders Optimized\n",
    "In the last lab, you were starting an online store that sells various products. To ensure smooth operations, you developed a program that manages customer orders and inventory.\n",
    "\n",
    "You did so without using flow control. Let's go a step further and improve this code.\n",
    "\n",
    "Follow the steps below to complete the exercise:\n",
    "\n",
    "Look at your code from the lab data structures, and improve repeated code with loops.\n",
    "\n",
    "Instead of asking the user to input the name of three products that a customer wants to order, do the following:\n",
    "\n",
    "a. Prompt the user to enter the name of a product that a customer wants to order.\n",
    "\n",
    "b. Add the product name to the \"customer_orders\" set.\n",
    "\n",
    "c. Ask the user if they want to add another product (yes/no).\n",
    "\n",
    "d. Continue the loop until the user does not want to add another product.\n",
    "\n",
    "Instead of updating the inventory by subtracting 1 from the quantity of each product, only do it for the products that were ordered (those in \"customer_orders\")."
   ]
  },
  {
   "cell_type": "code",
   "execution_count": 69,
   "id": "b60afef0-74dc-48bd-953b-3d15ab542e71",
   "metadata": {},
   "outputs": [
    {
     "name": "stdin",
     "output_type": "stream",
     "text": [
      "Please enter the product you would like to order: keychain\n"
     ]
    },
    {
     "data": {
      "text/plain": [
       "{'book', 'hat', 'keychain', 'mug'}"
      ]
     },
     "execution_count": 69,
     "metadata": {},
     "output_type": "execute_result"
    }
   ],
   "source": [
    "#a) Prompt the user to enter the name of a product that a customer wants to order\n",
    "#b) Add the product name to the \"customer_orders\" set\n",
    "\n",
    "product_x= str(input(\"Please enter the product you would like to order:\"))\n",
    "product_x\n",
    "customer_orders.add(product_x)\n",
    "customer_orders"
   ]
  },
  {
   "cell_type": "code",
   "execution_count": null,
   "id": "bfd8ed71-aea4-481c-8526-be1d2376c8f0",
   "metadata": {},
   "outputs": [],
   "source": [
    "\"\"\"\n",
    "Nota: While True é utilizado para criar loops que continuam a correr até uma certa condição ser encontrada. \n",
    "Aqui por exemplo eu queria que continuasse a pedir um produto até o cliente dizer não quero mais. \n",
    "Aí sou obrigada a user break neste while True loop para que pare quando eu nao quiser mais.\n",
    "\"\"\""
   ]
  },
  {
   "cell_type": "code",
   "execution_count": 106,
   "id": "913b7fe4-91fe-42ff-8ebb-8aeec937e7d1",
   "metadata": {},
   "outputs": [
    {
     "name": "stdin",
     "output_type": "stream",
     "text": [
      "Would you like to order another product? (yes/no answers only) Olá\n"
     ]
    },
    {
     "name": "stdout",
     "output_type": "stream",
     "text": [
      "Try again!\n"
     ]
    },
    {
     "name": "stdin",
     "output_type": "stream",
     "text": [
      "Would you like to order another product? (yes/no answers only) yes\n"
     ]
    },
    {
     "name": "stdout",
     "output_type": "stream",
     "text": [
      "Please choose the next product :)\n"
     ]
    },
    {
     "name": "stdin",
     "output_type": "stream",
     "text": [
      "Would you like to order another product? (yes/no answers only) yes\n"
     ]
    },
    {
     "name": "stdout",
     "output_type": "stream",
     "text": [
      "Please choose the next product :)\n"
     ]
    },
    {
     "name": "stdin",
     "output_type": "stream",
     "text": [
      "Would you like to order another product? (yes/no answers only) no\n"
     ]
    },
    {
     "name": "stdout",
     "output_type": "stream",
     "text": [
      "See you next time!\n"
     ]
    }
   ],
   "source": [
    "#c) Ask the user if they want to add another product (yes/no)\n",
    "#d) Continue the loop until the user does not want to add another product\n",
    "#to iterate through the string, if i put word it will check charachters instead\n",
    "while True:\n",
    "    product_y= str(input(\"Would you like to order another product? (yes/no answers only)\"))\n",
    "\n",
    "    if product_y != \"yes\" and product_y != \"no\":\n",
    "        print(\"Try again!\")\n",
    "    elif product_y == \"yes\":\n",
    "        print(\"Please choose the next product :)\")\n",
    "    elif product_y == \"no\":\n",
    "        print(\"See you next time!\")\n",
    "        break"
   ]
  },
  {
   "cell_type": "code",
   "execution_count": 40,
   "id": "d1177b48-5387-48ec-b21f-998b84413640",
   "metadata": {},
   "outputs": [
    {
     "data": {
      "text/plain": [
       "{'book', 'hat', 'keychain', 'mug'}"
      ]
     },
     "execution_count": 40,
     "metadata": {},
     "output_type": "execute_result"
    }
   ],
   "source": [
    "customer_orders"
   ]
  },
  {
   "cell_type": "code",
   "execution_count": 85,
   "id": "c4b97457-ecbf-4468-8352-4eb5b00ea6f0",
   "metadata": {},
   "outputs": [
    {
     "data": {
      "text/plain": [
       "{'t-shirt': '12', 'mug': '10', 'hat': '13', 'book': '14', 'keychain': '15'}"
      ]
     },
     "execution_count": 85,
     "metadata": {},
     "output_type": "execute_result"
    }
   ],
   "source": [
    "inventory"
   ]
  },
  {
   "cell_type": "code",
   "execution_count": 108,
   "id": "fa154f0e-f73f-4628-925e-a8d10e18366c",
   "metadata": {},
   "outputs": [
    {
     "data": {
      "text/plain": [
       "{'t-shirt': '12', 'mug': 9, 'hat': 12, 'book': 13, 'keychain': 14}"
      ]
     },
     "execution_count": 108,
     "metadata": {},
     "output_type": "execute_result"
    }
   ],
   "source": [
    "#Instead of updating the inventory by subtracting 1 from the quantity of each product, only do it for the products that were ordered (those in \"customer_orders\").\n",
    "inventory[\"mug\"]=new_mug\n",
    "inventory[\"hat\"]=new_hat\n",
    "inventory[\"book\"]=new_book\n",
    "inventory[\"keychain\"]= new_keychain\n",
    "inventory"
   ]
  },
  {
   "cell_type": "code",
   "execution_count": null,
   "id": "182a98a0-3c9c-4806-8246-50de1ecd9208",
   "metadata": {},
   "outputs": [],
   "source": [
    "\"\"\"\n",
    "Just showing the process for further reference\n",
    "\n",
    "\"\"\""
   ]
  },
  {
   "cell_type": "code",
   "execution_count": 38,
   "id": "d38415cf-eab9-4396-b1ce-a23f13222427",
   "metadata": {},
   "outputs": [
    {
     "ename": "TypeError",
     "evalue": "unsupported operand type(s) for -=: 'set' and 'int'",
     "output_type": "error",
     "traceback": [
      "\u001b[1;31m---------------------------------------------------------------------------\u001b[0m",
      "\u001b[1;31mTypeError\u001b[0m                                 Traceback (most recent call last)",
      "Cell \u001b[1;32mIn[38], line 3\u001b[0m\n\u001b[0;32m      1\u001b[0m \u001b[38;5;28;01mfor\u001b[39;00m product \u001b[38;5;129;01min\u001b[39;00m inventory:\n\u001b[0;32m      2\u001b[0m     \u001b[38;5;28;01mif\u001b[39;00m product \u001b[38;5;129;01min\u001b[39;00m customer_orders:\n\u001b[1;32m----> 3\u001b[0m         customer_orders \u001b[38;5;241m-\u001b[39m\u001b[38;5;241m=\u001b[39m \u001b[38;5;241m1\u001b[39m\n",
      "\u001b[1;31mTypeError\u001b[0m: unsupported operand type(s) for -=: 'set' and 'int'"
     ]
    }
   ],
   "source": [
    "for product in inventory: #this was my first attempt\n",
    "    if product in customer_orders:\n",
    "        customer_orders -= 1"
   ]
  },
  {
   "cell_type": "code",
   "execution_count": 47,
   "id": "d00fbc6f-005a-4c25-bb05-57276a4b1c6a",
   "metadata": {},
   "outputs": [
    {
     "data": {
      "text/plain": [
       "{'t-shirt': '12', 'mug': '10', 'hat': '13', 'book': '14', 'keychain': '15'}"
      ]
     },
     "execution_count": 47,
     "metadata": {},
     "output_type": "execute_result"
    }
   ],
   "source": [
    "for quantity in inventory.values(): #second attempt\n",
    "    if quantity in customer_orders:\n",
    "        quantity -= 1    \n",
    "inventory"
   ]
  },
  {
   "cell_type": "code",
   "execution_count": null,
   "id": "42070c0c-d283-43cf-9e90-5d6bd7eb3701",
   "metadata": {},
   "outputs": [],
   "source": [
    "\"\"\"\n",
    "PAST CODE FOR GUIDE\n",
    "     |\n",
    "    \\/\n",
    "\"\"\""
   ]
  },
  {
   "cell_type": "code",
   "execution_count": 70,
   "id": "f2e391a8-1e2c-47ba-b440-2e5e37df3d9c",
   "metadata": {},
   "outputs": [],
   "source": [
    "products=[\"t-shirt\", \"mug\", \"hat\", \"book\", \"keychain\"]"
   ]
  },
  {
   "cell_type": "code",
   "execution_count": 102,
   "id": "18f0972d-a3dd-4416-bc6d-e50e137f7786",
   "metadata": {},
   "outputs": [],
   "source": [
    "inventory={}"
   ]
  },
  {
   "cell_type": "code",
   "execution_count": 3,
   "id": "05a2193f-9f2b-47fd-9b28-bb55a8ba47d6",
   "metadata": {},
   "outputs": [
    {
     "name": "stdin",
     "output_type": "stream",
     "text": [
      "Please enter the quantity of t-shirts 12\n",
      "Please enter the quantity of mugs 10\n",
      "Please enter the quantity of hats 13\n",
      "Please enter the quantity of book 14\n",
      "Please enter the quantity of keychain 15\n"
     ]
    }
   ],
   "source": [
    "quantity_tshirt= input(\"Please enter the quantity of t-shirts\")\n",
    "quantity_mug= input(\"Please enter the quantity of mugs\")\n",
    "quantity_hat= input(\"Please enter the quantity of hats\")\n",
    "quantity_book= input(\"Please enter the quantity of book\")\n",
    "quantity_keychain= input(\"Please enter the quantity of keychain\")"
   ]
  },
  {
   "cell_type": "code",
   "execution_count": 103,
   "id": "b384ebde-d6d8-476e-aaf5-ec8c78cfc984",
   "metadata": {},
   "outputs": [
    {
     "data": {
      "text/plain": [
       "{'t-shirt': '12', 'mug': '10', 'hat': '13', 'book': '14', 'keychain': '15'}"
      ]
     },
     "execution_count": 103,
     "metadata": {},
     "output_type": "execute_result"
    }
   ],
   "source": [
    "inventory[\"t-shirt\"]= quantity_tshirt\n",
    "inventory[\"mug\"]= quantity_mug\n",
    "inventory[\"hat\"]= quantity_hat\n",
    "inventory[\"book\"]= quantity_book\n",
    "inventory[\"keychain\"]= quantity_keychain\n",
    "inventory"
   ]
  },
  {
   "cell_type": "code",
   "execution_count": 5,
   "id": "c32e72a4-f5bf-401a-9c4c-a56034851295",
   "metadata": {},
   "outputs": [],
   "source": [
    "customer_orders= set()"
   ]
  },
  {
   "cell_type": "code",
   "execution_count": 6,
   "id": "8c78c2ca-97f9-4802-9d27-ab9255b84a04",
   "metadata": {},
   "outputs": [
    {
     "name": "stdin",
     "output_type": "stream",
     "text": [
      "Please input your product mug\n"
     ]
    }
   ],
   "source": [
    "product_1=input(\"Please input your product\")"
   ]
  },
  {
   "cell_type": "code",
   "execution_count": 7,
   "id": "553cd920-7276-4685-a41a-dc9a57faf624",
   "metadata": {},
   "outputs": [
    {
     "name": "stdin",
     "output_type": "stream",
     "text": [
      "Please input your product hat\n"
     ]
    }
   ],
   "source": [
    "product_2=input(\"Please input your product\")"
   ]
  },
  {
   "cell_type": "code",
   "execution_count": 8,
   "id": "364e0218-c28c-41e0-8119-2b1250d85741",
   "metadata": {},
   "outputs": [
    {
     "name": "stdin",
     "output_type": "stream",
     "text": [
      "Please input your product book\n"
     ]
    }
   ],
   "source": [
    "product_3=input(\"Please input your product\")"
   ]
  },
  {
   "cell_type": "code",
   "execution_count": 9,
   "id": "b8eebc63-d2c0-4bbe-8d4f-0beff141cd68",
   "metadata": {},
   "outputs": [],
   "source": [
    "while len(customer_orders) < 3: #para o cliente me dar 3 produtos\n",
    "    if product_1 in products:\n",
    "        customer_orders.add(product_1)\n",
    "    if product_2 in products:\n",
    "        customer_orders.add(product_2)\n",
    "    if product_3 in products:\n",
    "        customer_orders.add(product_3)"
   ]
  },
  {
   "cell_type": "code",
   "execution_count": 10,
   "id": "8f6d9bf7-d763-46db-9982-63c0fbf88fda",
   "metadata": {},
   "outputs": [
    {
     "data": {
      "text/plain": [
       "{'book', 'hat', 'mug'}"
      ]
     },
     "execution_count": 10,
     "metadata": {},
     "output_type": "execute_result"
    }
   ],
   "source": [
    "set(customer_orders)"
   ]
  },
  {
   "cell_type": "code",
   "execution_count": 11,
   "id": "a64a7010-2a68-46ab-a709-f203cec332b0",
   "metadata": {},
   "outputs": [
    {
     "data": {
      "text/plain": [
       "3"
      ]
     },
     "execution_count": 11,
     "metadata": {},
     "output_type": "execute_result"
    }
   ],
   "source": [
    "total_products_ordered= len(customer_orders)\n",
    "total_products_ordered"
   ]
  },
  {
   "cell_type": "code",
   "execution_count": 12,
   "id": "e7e8e768-fe4b-475f-ad82-8a325f63c282",
   "metadata": {},
   "outputs": [
    {
     "data": {
      "text/plain": [
       "5"
      ]
     },
     "execution_count": 12,
     "metadata": {},
     "output_type": "execute_result"
    }
   ],
   "source": [
    "len(products)"
   ]
  },
  {
   "cell_type": "code",
   "execution_count": 16,
   "id": "497ca167-c5c0-4903-b50c-599cfab10cdd",
   "metadata": {},
   "outputs": [
    {
     "name": "stdout",
     "output_type": "stream",
     "text": [
      "166.66666666666669\n"
     ]
    }
   ],
   "source": [
    "Percentage_of_products_ordered= (len(products)/total_products_ordered) *100\n",
    "print(Percentage_of_products_ordered)"
   ]
  },
  {
   "cell_type": "code",
   "execution_count": 92,
   "id": "898080ca-a4df-4450-ba85-e43a4ff9b540",
   "metadata": {},
   "outputs": [
    {
     "data": {
      "text/plain": [
       "'166.66666666666669%%'"
      ]
     },
     "execution_count": 92,
     "metadata": {},
     "output_type": "execute_result"
    }
   ],
   "source": [
    "Percentage_of_products_ordered= str(Percentage_of_products_ordered) + \"%\"\n",
    "Percentage_of_products_ordered"
   ]
  },
  {
   "cell_type": "code",
   "execution_count": 99,
   "id": "aa58879f-a026-459a-aee9-22be4d215743",
   "metadata": {},
   "outputs": [
    {
     "data": {
      "text/plain": [
       "'3 and 166.66666666666669%%'"
      ]
     },
     "execution_count": 99,
     "metadata": {},
     "output_type": "execute_result"
    }
   ],
   "source": [
    "order_status= str(total_products_ordered) + \" \"+ \"and\" +  \" \" + Percentage_of_products_ordered\n",
    "order_status"
   ]
  },
  {
   "cell_type": "code",
   "execution_count": 101,
   "id": "6695d09b-3bf8-4799-9a6d-2b7849013fc5",
   "metadata": {},
   "outputs": [
    {
     "name": "stdout",
     "output_type": "stream",
     "text": [
      " In order status there is total products ordered which is 3 and the percentage of products ordered which is 166.66666666666669%%\n"
     ]
    }
   ],
   "source": [
    "print(f\" In order status there is total products ordered which is {total_products_ordered} and the percentage of products ordered which is {Percentage_of_products_ordered}\")"
   ]
  },
  {
   "cell_type": "code",
   "execution_count": 52,
   "id": "92bef6d1-de1b-4625-9333-8aed7b2c93d8",
   "metadata": {},
   "outputs": [],
   "source": [
    "new_tshirt =int(quantity_tshirt) -1\n",
    "new_mug =int(quantity_mug)-1\n",
    "new_hat=int(quantity_hat)-1\n",
    "new_book=int(quantity_book)-1\n",
    "new_keychain=int(quantity_keychain)-1"
   ]
  },
  {
   "cell_type": "code",
   "execution_count": 153,
   "id": "250b13fe-5bd8-4f26-8b68-850fe53d50c8",
   "metadata": {},
   "outputs": [
    {
     "name": "stdout",
     "output_type": "stream",
     "text": [
      "11\n"
     ]
    }
   ],
   "source": [
    "print(new_tshirt)"
   ]
  },
  {
   "cell_type": "code",
   "execution_count": 142,
   "id": "0e63a950-6b06-45bd-a3d3-02ef4fa6eebd",
   "metadata": {},
   "outputs": [
    {
     "name": "stdout",
     "output_type": "stream",
     "text": [
      "9\n"
     ]
    }
   ],
   "source": [
    "print(new_mug)"
   ]
  },
  {
   "cell_type": "code",
   "execution_count": 75,
   "id": "2655eeb5-c541-4368-9528-c2a6768d2a12",
   "metadata": {},
   "outputs": [
    {
     "data": {
      "text/plain": [
       "{'t-shirt': '12', 'mug': 9, 'hat': 12, 'book': 13, 'keychain': 14}"
      ]
     },
     "execution_count": 75,
     "metadata": {},
     "output_type": "execute_result"
    }
   ],
   "source": [
    "inventory[\"mug\"]= new_mug\n",
    "inventory[\"hat\"]= new_hat\n",
    "inventory[\"book\"]= new_book\n",
    "inventory[\"keychain\"]= new_keychain\n",
    "inventory"
   ]
  },
  {
   "cell_type": "code",
   "execution_count": 232,
   "id": "5af5a13a-c9e9-4f8b-bd06-6c8ed7b60ed0",
   "metadata": {},
   "outputs": [],
   "source": [
    "inventory.items()\n",
    "keys= inventory.keys()"
   ]
  },
  {
   "cell_type": "code",
   "execution_count": 78,
   "id": "3ae7bc30-aebf-47db-82aa-1695f9a8fd0a",
   "metadata": {},
   "outputs": [],
   "source": [
    "values=inventory.values()"
   ]
  },
  {
   "cell_type": "code",
   "execution_count": 235,
   "id": "15b82aa5-a112-44cd-b7b7-f7a155331bd3",
   "metadata": {},
   "outputs": [
    {
     "name": "stdout",
     "output_type": "stream",
     "text": [
      " 't-shirt': '12'\n",
      " 'mug': '10'\n",
      " 'hat': '13'\n",
      " 'book': '14'\n",
      " 'keychain': '15'\n"
     ]
    }
   ],
   "source": [
    "for key, value in inventory.items():\n",
    "    print(f\" '{key}': '{value}'\")"
   ]
  }
 ],
 "metadata": {
  "kernelspec": {
   "display_name": "Python 3 (ipykernel)",
   "language": "python",
   "name": "python3"
  },
  "language_info": {
   "codemirror_mode": {
    "name": "ipython",
    "version": 3
   },
   "file_extension": ".py",
   "mimetype": "text/x-python",
   "name": "python",
   "nbconvert_exporter": "python",
   "pygments_lexer": "ipython3",
   "version": "3.11.7"
  }
 },
 "nbformat": 4,
 "nbformat_minor": 5
}
