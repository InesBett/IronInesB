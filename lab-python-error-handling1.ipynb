{
 "cells": [
  {
   "cell_type": "markdown",
   "id": "25d7736c-ba17-4aff-b6bb-66eba20fbf4e",
   "metadata": {},
   "source": [
    "# Lab | Error Handling"
   ]
  },
  {
   "cell_type": "markdown",
   "id": "bc99b386-7508-47a0-bcdb-d969deaf6c8b",
   "metadata": {},
   "source": [
    "## Exercise: Error Handling for Managing Customer Orders\n",
    "\n",
    "The implementation of your code for managing customer orders assumes that the user will always enter a valid input. \n",
    "\n",
    "For example, we could modify the `initialize_inventory` function to include error handling.\n",
    "   - If the user enters an invalid quantity (e.g., a negative value or a non-numeric value), display an error message and ask them to re-enter the quantity for that product.\n",
    "   - Use a try-except block to handle the error and continue prompting the user until a valid quantity is entered.\n",
    "\n",
    "```python\n",
    "# Step 1: Define the function for initializing the inventory with error handling\n",
    "def initialize_inventory(products):\n",
    "    inventory = {}\n",
    "    for product in products:\n",
    "        valid_quantity = False\n",
    "        while not valid_quantity:\n",
    "            try:\n",
    "                quantity = int(input(f\"Enter the quantity of {product}s available: \"))\n",
    "                if quantity < 0:\n",
    "                    raise ValueError(\"Invalid quantity! Please enter a non-negative value.\")\n",
    "                valid_quantity = True\n",
    "            except ValueError as error:\n",
    "                print(f\"Error: {error}\")\n",
    "        inventory[product] = quantity\n",
    "    return inventory\n",
    "\n",
    "# Or, in another way:\n",
    "\n",
    "def initialize_inventory(products):\n",
    "    inventory = {}\n",
    "    for product in products:\n",
    "        valid_input = False\n",
    "        while not valid_input:\n",
    "            try:\n",
    "                quantity = int(input(f\"Enter the quantity of {product}s available: \"))\n",
    "                if quantity >= 0:\n",
    "                    inventory[product] = quantity\n",
    "                    valid_input = True\n",
    "                else:\n",
    "                    print(\"Quantity cannot be negative. Please enter a valid quantity.\")\n",
    "            except ValueError:\n",
    "                print(\"Invalid input. Please enter a valid quantity.\")\n",
    "    return inventory\n",
    "```\n",
    "\n",
    "Let's enhance your code by implementing error handling to handle invalid inputs.\n",
    "\n",
    "Follow the steps below to complete the exercise:\n",
    "\n",
    "2. Modify the `calculate_total_price` function to include error handling.\n",
    "   - If the user enters an invalid price (e.g., a negative value or a non-numeric value), display an error message and ask them to re-enter the price for that product.\n",
    "   - Use a try-except block to handle the error and continue prompting the user until a valid price is entered.\n",
    "\n",
    "3. Modify the `get_customer_orders` function to include error handling.\n",
    "   - If the user enters an invalid number of orders (e.g., a negative value or a non-numeric value), display an error message and ask them to re-enter the number of orders.\n",
    "   - If the user enters an invalid product name (e.g., a product name that is not in the inventory), or that doesn't have stock available, display an error message and ask them to re-enter the product name. *Hint: you will need to pass inventory as a parameter*\n",
    "   - Use a try-except block to handle the error and continue prompting the user until a valid product name is entered.\n",
    "\n",
    "4. Test your code by running the program and deliberately entering invalid quantities and product names. Make sure the error handling mechanism works as expected.\n"
   ]
  },
  {
   "cell_type": "code",
   "execution_count": 104,
   "id": "62631c4a-6c19-4c09-ba4e-0e2679bbc2bc",
   "metadata": {},
   "outputs": [],
   "source": [
    "def calculate_total_price(inventory):\n",
    "    for product in inventory:\n",
    "        while True:\n",
    "            try:\n",
    "                price= float(input(f\"Please enter the price of the {product}\"))\n",
    "                if price < 0:\n",
    "                    raise ValueError (\"Please enter a positive value\")\n",
    "                inventory[product]= price\n",
    "                break\n",
    "            except ValueError as ve:\n",
    "                print(\"Please enter a positive value\")\n",
    "    return inventory\n",
    "\n",
    "\n",
    "inventory= {\"tshirt\": 10, \"mug\": 20, \"hat\": 0, \"book\":6, \"keychain\": 5}                "
   ]
  },
  {
   "cell_type": "code",
   "execution_count": 105,
   "id": "395a2389-339e-488b-9a7e-97ea896fd5c7",
   "metadata": {},
   "outputs": [
    {
     "name": "stdin",
     "output_type": "stream",
     "text": [
      "Please enter the price of the tshirt 23.99\n",
      "Please enter the price of the mug 34.96\n",
      "Please enter the price of the hat -45\n"
     ]
    },
    {
     "name": "stdout",
     "output_type": "stream",
     "text": [
      "Please enter a positive value\n"
     ]
    },
    {
     "name": "stdin",
     "output_type": "stream",
     "text": [
      "Please enter the price of the hat 21.99\n",
      "Please enter the price of the book 23\n",
      "Please enter the price of the keychain 56\n"
     ]
    },
    {
     "data": {
      "text/plain": [
       "{'tshirt': 23.99, 'mug': 34.96, 'hat': 21.99, 'book': 23.0, 'keychain': 56.0}"
      ]
     },
     "execution_count": 105,
     "metadata": {},
     "output_type": "execute_result"
    }
   ],
   "source": [
    "calculate_total_price(inventory)"
   ]
  },
  {
   "cell_type": "code",
   "execution_count": 106,
   "id": "2c0e44b5-44d2-4e47-a8e0-a51a13caa467",
   "metadata": {},
   "outputs": [],
   "source": [
    "#I have tried to make this code and i almost suceeded however i just cant stop the loop when i input \"no\" after (would you like to keep ordering?).\n",
    "#feedback much needed and appreciated\n",
    "\n",
    "def get_customer_orders(inventory):\n",
    "    customer_orders = set()\n",
    "    while True:\n",
    "        try:\n",
    "            orders = int(input(\"Please enter the number of orders you have: \"))\n",
    "            if orders <= 0:\n",
    "                raise ValueError(\"Error! Please enter a positive value.\")\n",
    "            break\n",
    "        except ValueError as ve:\n",
    "            print(ve)\n",
    "    \n",
    "    for product in range(orders):\n",
    "        while True:\n",
    "            try:\n",
    "                product = input(\"Enter your product name: \").strip().lower()\n",
    "                if product not in inventory:\n",
    "                    raise NameError(\"Error! The product you entered is not in the inventory.\")\n",
    "                elif inventory[product] <= 0:\n",
    "                    raise ValueError(\"Error! The product is sold out :(\")\n",
    "            except (NameError, ValueError) as ve:\n",
    "                print(ve)   \n",
    "            while True: \n",
    "                another_product= input(\"Would you like to keep ordering?\").lower().strip()\n",
    "                if another_product != \"yes\":\n",
    "                    print(\"See you soon!\")\n",
    "                customer_orders.add(product)\n",
    "                break\n",
    "        return customer_orders\n",
    "    \n",
    "inventory = {\"tshirt\": 10, \"mug\": 20, \"hat\": 0, \"book\":6, \"keychain\": 5}"
   ]
  }
 ],
 "metadata": {
  "kernelspec": {
   "display_name": "Python 3 (ipykernel)",
   "language": "python",
   "name": "python3"
  },
  "language_info": {
   "codemirror_mode": {
    "name": "ipython",
    "version": 3
   },
   "file_extension": ".py",
   "mimetype": "text/x-python",
   "name": "python",
   "nbconvert_exporter": "python",
   "pygments_lexer": "ipython3",
   "version": "3.11.7"
  }
 },
 "nbformat": 4,
 "nbformat_minor": 5
}
