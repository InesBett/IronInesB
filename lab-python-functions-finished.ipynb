{
 "cells": [
  {
   "cell_type": "markdown",
   "id": "25d7736c-ba17-4aff-b6bb-66eba20fbf4e",
   "metadata": {},
   "source": [
    "# Lab | Functions"
   ]
  },
  {
   "cell_type": "markdown",
   "id": "0c581062-8967-4d93-b06e-62833222f930",
   "metadata": {
    "tags": []
   },
   "source": [
    "## Exercise: Managing Customer Orders with Functions\n",
    "\n",
    "In the previous exercise, you improved the code for managing customer orders by using loops and flow control. Now, let's take it a step further and refactor the code by introducing functions.\n",
    "\n",
    "Follow the steps below to complete the exercise:\n",
    "\n",
    "1. Define a function named `initialize_inventory` that takes `products` as a parameter. Inside the function, implement the code for initializing the inventory dictionary using a loop and user input.\n",
    "\n",
    "2. Define a function named `get_customer_orders` that takes no parameters. Inside the function, implement the code for prompting the user to enter the product names using a loop. The function should return the `customer_orders` set.\n",
    "\n",
    "3. Define a function named `update_inventory` that takes `customer_orders` and `inventory` as parameters. Inside the function, implement the code for updating the inventory dictionary based on the customer orders.\n",
    "\n",
    "4. Define a function named `calculate_order_statistics` that takes `customer_orders` and `products` as parameters. Inside the function, implement the code for calculating the order statistics (total products ordered, and percentage of unique products ordered). The function should return these values.\n",
    "\n",
    "5. Define a function named `print_order_statistics` that takes `order_statistics` as a parameter. Inside the function, implement the code for printing the order statistics.\n",
    "\n",
    "6. Define a function named `print_updated_inventory` that takes `inventory` as a parameter. Inside the function, implement the code for printing the updated inventory.\n",
    "\n",
    "7. Call the functions in the appropriate sequence to execute the program and manage customer orders.\n",
    "\n",
    "Hints for functions:\n",
    "\n",
    "- Consider the input parameters required for each function and their return values.\n",
    "- Utilize function parameters and return values to transfer data between functions.\n",
    "- Test your functions individually to ensure they work correctly.\n",
    "\n",
    "\n"
   ]
  },
  {
   "cell_type": "code",
   "execution_count": 76,
   "id": "0e971df6-18b9-4c31-840b-c7670dc6c644",
   "metadata": {},
   "outputs": [],
   "source": [
    "products=[\"t-shirt\", \"mug\", \"hat\", \"book\", \"keychain\"]"
   ]
  },
  {
   "cell_type": "code",
   "execution_count": 78,
   "id": "6cd0b44a-4f18-4865-ac61-0b4746361cd5",
   "metadata": {},
   "outputs": [],
   "source": [
    "inventory={}"
   ]
  },
  {
   "cell_type": "code",
   "execution_count": 79,
   "id": "edbe0995-8027-415c-b3e8-d4a2110692fb",
   "metadata": {},
   "outputs": [
    {
     "name": "stdin",
     "output_type": "stream",
     "text": [
      "Please enter the quantitity of t-shirt 12\n",
      "Please enter the quantitity of mug 13\n",
      "Please enter the quantitity of hat 14\n",
      "Please enter the quantitity of book 15\n",
      "Please enter the quantitity of keychain 16\n"
     ]
    }
   ],
   "source": [
    "def initialize_inventory(products):\n",
    "    for product in products:\n",
    "        quantity= int(input(f\"Please enter the quantitity of {product}\"))\n",
    "        inventory[product]= quantity\n",
    "    return inventory\n",
    "\n",
    "inventory =initialize_inventory(products) #o return tem de estar fora da function para que conte todos os artigos"
   ]
  },
  {
   "cell_type": "code",
   "execution_count": 80,
   "id": "2d68869f-dc56-458e-b0e9-aa514a8096fc",
   "metadata": {},
   "outputs": [],
   "source": [
    "customer_orders= set()"
   ]
  },
  {
   "cell_type": "code",
   "execution_count": 81,
   "id": "2cd3b9a8-54d7-4041-8a72-6c1b147cb4b4",
   "metadata": {},
   "outputs": [],
   "source": [
    "def get_customer_orders():\n",
    "    while True:\n",
    "        product= str(input(\"Please enter the product you would like to order\"))\n",
    "        customer_orders.add(product)\n",
    "        another_product= input(\"Do you want to order another product? (yes/no): \").strip().lower()\n",
    "        if another_product != \"yes\":\n",
    "            print(\"See you next time\")\n",
    "            break\n",
    "    return customer_orders\n",
    "    \n",
    "#definimos a função e criamos uma variavel para guardar os valores sempre, depois queremos pedir continuamente ao user que nos indique os produtos\n",
    "#então pedimos o primeiro produto e adicionamos á variavel que criamos anteriormente\n",
    "#agora vamos ver se quer encomendar mais que um produto e para isso criamos \"another_product\"\n",
    "#pergunto quer ou nao? se disser sim continua porque não indiquei nada para parar\n",
    "#se disser não vai aparecer uma mensagem que eu criei\n",
    "#para tudo funcionar em condições nunca esquecer o return fora da função para abranger tudo"
   ]
  },
  {
   "cell_type": "code",
   "execution_count": 82,
   "id": "f8bef691-55e9-4eba-ae72-20c750d36140",
   "metadata": {},
   "outputs": [
    {
     "name": "stdin",
     "output_type": "stream",
     "text": [
      "Please enter the product you would like to order mug\n",
      "Do you want to order another product? (yes/no):  yes\n",
      "Please enter the product you would like to order hat\n",
      "Do you want to order another product? (yes/no):  yes\n",
      "Please enter the product you would like to order keychain\n",
      "Do you want to order another product? (yes/no):  no\n"
     ]
    },
    {
     "name": "stdout",
     "output_type": "stream",
     "text": [
      "See you next time\n"
     ]
    }
   ],
   "source": [
    "customer_orders= get_customer_orders()"
   ]
  },
  {
   "cell_type": "code",
   "execution_count": 89,
   "id": "a9afe469-5a1a-481c-9ff5-a94c2e5895cb",
   "metadata": {},
   "outputs": [],
   "source": [
    "def update_inventory(customer_orders, inventory):\n",
    "    for product in customer_orders:\n",
    "        inventory[product] -= 1\n",
    "    return inventory"
   ]
  },
  {
   "cell_type": "code",
   "execution_count": 88,
   "id": "2888a1bc-ff23-434a-9542-0323287663c9",
   "metadata": {},
   "outputs": [
    {
     "data": {
      "text/plain": [
       "{'t-shirt': 12, 'mug': 11, 'hat': 12, 'book': 15, 'keychain': 14}"
      ]
     },
     "execution_count": 88,
     "metadata": {},
     "output_type": "execute_result"
    }
   ],
   "source": [
    "update_inventory(customer_orders, inventory)"
   ]
  },
  {
   "cell_type": "code",
   "execution_count": 87,
   "id": "f9d1746d-a6d7-4c21-bca5-daf959c21a8d",
   "metadata": {},
   "outputs": [
    {
     "data": {
      "text/plain": [
       "{'t-shirt': 12, 'mug': 12, 'hat': 13, 'book': 15, 'keychain': 15}"
      ]
     },
     "execution_count": 87,
     "metadata": {},
     "output_type": "execute_result"
    }
   ],
   "source": [
    "inventory"
   ]
  },
  {
   "cell_type": "code",
   "execution_count": 69,
   "id": "4fea6666-23ed-42ad-9065-674a4cd2ca27",
   "metadata": {},
   "outputs": [
    {
     "data": {
      "text/plain": [
       "{'hat', 'keychain', 'mug'}"
      ]
     },
     "execution_count": 69,
     "metadata": {},
     "output_type": "execute_result"
    }
   ],
   "source": [
    "customer_orders"
   ]
  },
  {
   "cell_type": "code",
   "execution_count": 161,
   "id": "17e249b4-46e2-4bb6-b7e4-9edb882fa09b",
   "metadata": {},
   "outputs": [],
   "source": [
    "def calculate_order_statistics(customer_orders, products):\n",
    "    total_products_ordered= len(customer_orders)\n",
    "    percentage_of_unique_products_ordered= (len(customer_orders)/ len(products))*100\n",
    "    order_statistic= (total_products_ordered,percentage_of_unique_products_ordered)\n",
    "    return order_statistic"
   ]
  },
  {
   "cell_type": "code",
   "execution_count": 162,
   "id": "1d41f098-1748-4c87-af58-839d79b35a28",
   "metadata": {},
   "outputs": [
    {
     "data": {
      "text/plain": [
       "(3, 60.0)"
      ]
     },
     "execution_count": 162,
     "metadata": {},
     "output_type": "execute_result"
    }
   ],
   "source": [
    "calculate_order_statistics(customer_orders, products)"
   ]
  },
  {
   "cell_type": "code",
   "execution_count": 164,
   "id": "fa27d8e0-7fc3-4741-a617-cf6170f95de9",
   "metadata": {},
   "outputs": [
    {
     "name": "stdout",
     "output_type": "stream",
     "text": [
      "Total products ordered: 3\n",
      "Percentage of unique products ordered: 60.0%\n"
     ]
    }
   ],
   "source": [
    "def print_order_statistics(order_statistics):\n",
    "    total_products_ordered, percentage_of_unique_products_ordered = order_statistics\n",
    "    print(f\"Total products ordered: {total_products_ordered}\")\n",
    "    print(f\"Percentage of unique products ordered: {percentage_of_unique_products_ordered}%\")\n",
    "\n",
    "order_statistics= calculate_order_statistics(customer_orders, products)\n",
    "print_order_statistics(order_statistics)"
   ]
  },
  {
   "cell_type": "code",
   "execution_count": 165,
   "id": "8bb7320c-be5d-4c81-a1ee-5b210047395c",
   "metadata": {},
   "outputs": [],
   "source": [
    "\"\"\" Define a function named print_updated_inventory that takes inventory as a parameter. \n",
    "Inside the function, implement the code for printing the updated inventory.\"\"\"\n",
    "\n",
    "def print_updated_inventory(inventory):\n",
    "    print(f\"The updated inventory is: {inventory}\")"
   ]
  },
  {
   "cell_type": "code",
   "execution_count": 167,
   "id": "0589c007-9646-4c52-bdd3-64b7c1907e15",
   "metadata": {},
   "outputs": [
    {
     "name": "stdin",
     "output_type": "stream",
     "text": [
      "Please enter the quantitity of t-shirt 10\n",
      "Please enter the quantitity of mug 12\n",
      "Please enter the quantitity of hat 13\n",
      "Please enter the quantitity of book 14\n",
      "Please enter the quantitity of keychain 15\n"
     ]
    },
    {
     "data": {
      "text/plain": [
       "{'t-shirt': 10, 'mug': 12, 'hat': 13, 'book': 14, 'keychain': 15}"
      ]
     },
     "execution_count": 167,
     "metadata": {},
     "output_type": "execute_result"
    }
   ],
   "source": [
    "initialize_inventory(inventory)"
   ]
  },
  {
   "cell_type": "code",
   "execution_count": 168,
   "id": "a8f36867-44d9-4252-a208-00a8403ad1fc",
   "metadata": {},
   "outputs": [
    {
     "name": "stdin",
     "output_type": "stream",
     "text": [
      "Please enter the product you would like to order mug\n",
      "Do you want to order another product? (yes/no):  yes\n",
      "Please enter the product you would like to order hat\n",
      "Do you want to order another product? (yes/no):  yes\n",
      "Please enter the product you would like to order keychain\n",
      "Do you want to order another product? (yes/no):  no\n"
     ]
    },
    {
     "name": "stdout",
     "output_type": "stream",
     "text": [
      "See you next time\n"
     ]
    },
    {
     "data": {
      "text/plain": [
       "{'hat', 'keychain', 'mug'}"
      ]
     },
     "execution_count": 168,
     "metadata": {},
     "output_type": "execute_result"
    }
   ],
   "source": [
    "get_customer_orders()"
   ]
  },
  {
   "cell_type": "code",
   "execution_count": 169,
   "id": "3ebb4d45-e9c7-404f-9eb2-72e02823121e",
   "metadata": {},
   "outputs": [
    {
     "data": {
      "text/plain": [
       "{'t-shirt': 10, 'mug': 11, 'hat': 12, 'book': 14, 'keychain': 14}"
      ]
     },
     "execution_count": 169,
     "metadata": {},
     "output_type": "execute_result"
    }
   ],
   "source": [
    "update_inventory(customer_orders, inventory)"
   ]
  },
  {
   "cell_type": "code",
   "execution_count": 170,
   "id": "9079e784-f41e-4e79-8028-d78b864aeb00",
   "metadata": {},
   "outputs": [
    {
     "data": {
      "text/plain": [
       "(3, 60.0)"
      ]
     },
     "execution_count": 170,
     "metadata": {},
     "output_type": "execute_result"
    }
   ],
   "source": [
    "calculate_order_statistics(customer_orders, products)"
   ]
  },
  {
   "cell_type": "code",
   "execution_count": 171,
   "id": "01d178b3-5412-4f31-830e-16264bdafb8b",
   "metadata": {},
   "outputs": [
    {
     "name": "stdout",
     "output_type": "stream",
     "text": [
      "Total products ordered: 3\n",
      "Percentage of unique products ordered: 60.0%\n"
     ]
    }
   ],
   "source": [
    "print_order_statistics(order_statistics)"
   ]
  },
  {
   "cell_type": "code",
   "execution_count": 172,
   "id": "918ff664-86d4-478b-ad8e-866ad67a4410",
   "metadata": {},
   "outputs": [
    {
     "name": "stdout",
     "output_type": "stream",
     "text": [
      "The updated inventory is: {'t-shirt': 10, 'mug': 11, 'hat': 12, 'book': 14, 'keychain': 14}\n"
     ]
    }
   ],
   "source": [
    "print_updated_inventory(inventory)"
   ]
  }
 ],
 "metadata": {
  "kernelspec": {
   "display_name": "Python 3 (ipykernel)",
   "language": "python",
   "name": "python3"
  },
  "language_info": {
   "codemirror_mode": {
    "name": "ipython",
    "version": 3
   },
   "file_extension": ".py",
   "mimetype": "text/x-python",
   "name": "python",
   "nbconvert_exporter": "python",
   "pygments_lexer": "ipython3",
   "version": "3.11.7"
  }
 },
 "nbformat": 4,
 "nbformat_minor": 5
}
