{
 "cells": [
  {
   "cell_type": "markdown",
   "id": "2762850a-a4dd-4133-aba3-8f810de9a985",
   "metadata": {},
   "source": [
    "Working with Data Types\n",
    "Objective: Practice working with different data types and their corresponding operations.\n",
    "\n",
    "Exercise 1: Calculate remaining salary\n",
    "In this exercise, prompt the user to enter their personal information such as name, age, address, salary, and expenses, and then perform some calculations to determine how much money they have left after expenses.\n",
    "\n",
    "Use data type casting to ensure that the age, salary, and expenses are stored as integers or floats, as appropriate, and round the remaining money to one decimal.\n",
    "\n",
    "Use a boolean variable to indicate whether the remaining salary is greater than or equal to 500.\n",
    "\n",
    "Finally, you will use string formatting to print a message to the screen in the following format: \"name, who is age years old, and lives in address has remaining_salary dollars left from her salary after expenses. It is is_salary_good that she has more than $500 left.\", using the mentioned variables.\n",
    "\n",
    "Hint:\n",
    "\n",
    "You can use the input() function to ask the user to enter their information. Beware that input() function returns a String.\n",
    "You can round the remaining salary to one decimal using the round() function.\n",
    "Use data type conversion functions. Recommended external resources: Data type conversion\n",
    "\n"
   ]
  },
  {
   "cell_type": "code",
   "execution_count": 1,
   "id": "629fa401-3d45-407a-ab63-1dabf703a58c",
   "metadata": {},
   "outputs": [
    {
     "name": "stdin",
     "output_type": "stream",
     "text": [
      "Enter your name Ines\n",
      "Enter your age 23\n",
      "Enter your address Rua das Flores, 29 3 esq frente\n",
      "Please enter your net salary 2200.50\n",
      "Please enter your monthly expenses 1300\n"
     ]
    }
   ],
   "source": [
    "#Exercise 1\n",
    "name=str(input(\"Enter your name\"))\n",
    "age=int(input(\"Enter your age\"))\n",
    "address=input(\"Enter your address\")\n",
    "salary=float(input(\"Please enter your net salary\"))\n",
    "expenses=float(input(\"Please enter your monthly expenses\"))"
   ]
  },
  {
   "cell_type": "code",
   "execution_count": 2,
   "id": "8d8cdac8-b6d8-4ad4-a0f5-570b442094b5",
   "metadata": {},
   "outputs": [
    {
     "name": "stdout",
     "output_type": "stream",
     "text": [
      " There is left each month 900.5 euros\n"
     ]
    }
   ],
   "source": [
    "money_left= salary-expenses\n",
    "print(f\" There is left each month {money_left} euros\")"
   ]
  },
  {
   "cell_type": "code",
   "execution_count": 8,
   "id": "8033eb35-61b0-4344-bc23-ccef26af7dd3",
   "metadata": {},
   "outputs": [
    {
     "name": "stdout",
     "output_type": "stream",
     "text": [
      "True\n"
     ]
    }
   ],
   "source": [
    "if money_left >= 500:\n",
    "    print(True)\n",
    "else:\n",
    "    print(False)"
   ]
  },
  {
   "cell_type": "code",
   "execution_count": 9,
   "id": "7e04bf55-5105-46d3-992e-fe6a52ece512",
   "metadata": {},
   "outputs": [
    {
     "name": "stdout",
     "output_type": "stream",
     "text": [
      "You are lucky you can still go drink a beer :)\n"
     ]
    }
   ],
   "source": [
    "\"\"\"Is the remaining salary bigger or equal than 500 euros?\"\"\"\n",
    "if money_left >= 500:\n",
    "    print(\"You are lucky you can still go drink a beer :)\")\n",
    "else:\n",
    "    print(\"Oh no! Stay home to save :p\")"
   ]
  },
  {
   "cell_type": "code",
   "execution_count": 68,
   "id": "2b1ef81a-d559-42ee-9e1c-50d159836941",
   "metadata": {},
   "outputs": [
    {
     "name": "stdout",
     "output_type": "stream",
     "text": [
      "Ines, who is 23 years old, and lives in Rua das Flores, 29 3 esq frente has 900.5 euros left from her 2200.5 euros salary after her 1300.0 euros expenses. It is is_salary_good that she has more than $500 left\n"
     ]
    }
   ],
   "source": [
    "\"\"\"Finally, you will use string formatting to print a message to the screen in the following format: \n",
    "\"name, who is age years old, and lives in address has remaining_salary dollars left from her salary after expenses. \n",
    "It is is_salary_good that she has more than $500 left.\", using the mentioned variables.\n",
    "\"\"\"\n",
    "final_message=print(f\"{name}, who is {age} years old, and lives in {address} has {money_left} euros left from her {salary} euros salary after her {expenses} euros expenses. It is is_salary_good that she has more than $500 left\")"
   ]
  },
  {
   "cell_type": "markdown",
   "id": "571d07db-6925-491f-b7b5-d3094350f2bc",
   "metadata": {},
   "source": [
    "Exercise 2: Text Cleaning and Concatenation\n",
    "Write code that takes text from the variable poem, removes the punctuation and leaves everything in lowercase.\n",
    "\n",
    "Concatenate the resulting string with the string \"python is awesome!\" and store the result in a new variable.\n",
    "\n",
    "Print the length of the new string.\n",
    "\n",
    "Split the string into a list of strings using the space delimiter, save it in a variable poem_list and print it.\n",
    "\n",
    "Hint:\n",
    "\n",
    "You can use the len() function to get the length of a string.\n",
    "Search string methods to accomplish the other steps. Recommended External Resources: Python String Methods\n",
    "Use method chaining to simplify your code. If you are not sure what it is, read this tutorial before: https://pyneng.readthedocs.io/en/latest/book/04_data_structures/method_chaining.html\n",
    "poem = \"\"\"Some say the world will end in fire,\n",
    "Some say in ice.\n",
    "From what I’ve tasted of desire\n",
    "I hold with those who favor fire.\n",
    "But if it had to perish twice,\n",
    "I think I know enough of hate\n",
    "To say that for destruction ice\n",
    "Is also great\n",
    "And would suffice.\"\"\""
   ]
  },
  {
   "cell_type": "code",
   "execution_count": 15,
   "id": "e52f3c97-8cef-4241-8e3e-df2b1995cf7e",
   "metadata": {},
   "outputs": [],
   "source": [
    "poem_x= \"\"\"Some say the world will end in fire,\n",
    "Some say in ice.\n",
    "From what I’ve tasted of desire\n",
    "I hold with those who favor fire.\n",
    "But if it had to perish twice,\n",
    "I think I know enough of hate\n",
    "To say that for destruction ice\n",
    "Is also great\n",
    "And would suffice.\"\"\""
   ]
  },
  {
   "cell_type": "code",
   "execution_count": 17,
   "id": "25a52ed5-faec-4352-9e52-71eedaf90f0a",
   "metadata": {},
   "outputs": [
    {
     "name": "stdout",
     "output_type": "stream",
     "text": [
      "Some say the world will end in fire,\n",
      "Some say in ice.\n",
      "From what I’ve tasted of desire\n",
      "I hold with those who favor fire.\n",
      "But if it had to perish twice,\n",
      "I think I know enough of hate\n",
      "To say that for destruction ice\n",
      "Is also great\n",
      "And would suffice.\n"
     ]
    }
   ],
   "source": [
    "print(poem_x)"
   ]
  },
  {
   "cell_type": "code",
   "execution_count": 58,
   "id": "ec08d65a-2c09-42d8-834a-e32ff50301ce",
   "metadata": {},
   "outputs": [],
   "source": [
    "poem_clean= poem_x.lower().replace(\",\", \" \").replace(\".\", \" \").replace(\"\\n\", \" \")"
   ]
  },
  {
   "cell_type": "code",
   "execution_count": 60,
   "id": "e6ee5079-4bbc-4497-9be1-4d0d7d81e05d",
   "metadata": {},
   "outputs": [
    {
     "data": {
      "text/plain": [
       "'some say the world will end in fire  some say in ice  from what i’ve tasted of desire i hold with those who favor fire  but if it had to perish twice  i think i know enough of hate to say that for destruction ice is also great and would suffice python is awesome!'"
      ]
     },
     "execution_count": 60,
     "metadata": {},
     "output_type": "execute_result"
    }
   ],
   "source": [
    "word= \"python is awesome!\"\n",
    "corrected_poem= poem_clean + word\n",
    "corrected_poem"
   ]
  },
  {
   "cell_type": "code",
   "execution_count": 62,
   "id": "9b18f52d-c66e-45df-a062-ed94db87d68f",
   "metadata": {},
   "outputs": [
    {
     "name": "stdout",
     "output_type": "stream",
     "text": [
      "The lenght of the new string is 263\n"
     ]
    }
   ],
   "source": [
    "len(corrected_poem)\n",
    "print(f\"The lenght of the new string is {len(corrected_poem)}\")"
   ]
  },
  {
   "cell_type": "code",
   "execution_count": 65,
   "id": "82ccc52d-d44b-4176-96ef-5037c4fb9bf1",
   "metadata": {},
   "outputs": [
    {
     "name": "stdout",
     "output_type": "stream",
     "text": [
      "['some', 'say', 'the', 'world', 'will', 'end', 'in', 'fire', 'some', 'say', 'in', 'ice', 'from', 'what', 'i’ve', 'tasted', 'of', 'desire', 'i', 'hold', 'with', 'those', 'who', 'favor', 'fire', 'but', 'if', 'it', 'had', 'to', 'perish', 'twice', 'i', 'think', 'i', 'know', 'enough', 'of', 'hate', 'to', 'say', 'that', 'for', 'destruction', 'ice', 'is', 'also', 'great', 'and', 'would', 'suffice', 'python', 'is', 'awesome!']\n"
     ]
    }
   ],
   "source": [
    "poem_list= corrected_poem.split()\n",
    "print(poem_list)"
   ]
  }
 ],
 "metadata": {
  "kernelspec": {
   "display_name": "Python 3 (ipykernel)",
   "language": "python",
   "name": "python3"
  },
  "language_info": {
   "codemirror_mode": {
    "name": "ipython",
    "version": 3
   },
   "file_extension": ".py",
   "mimetype": "text/x-python",
   "name": "python",
   "nbconvert_exporter": "python",
   "pygments_lexer": "ipython3",
   "version": "3.11.7"
  }
 },
 "nbformat": 4,
 "nbformat_minor": 5
}
